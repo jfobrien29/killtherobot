{
 "cells": [
  {
   "cell_type": "code",
   "execution_count": 1,
   "metadata": {},
   "outputs": [
    {
     "data": {
      "text/plain": [
       "AIMessage(content='Hello! How can I assist you today?', additional_kwargs={'refusal': None}, response_metadata={'token_usage': {'completion_tokens': 9, 'prompt_tokens': 8, 'total_tokens': 17, 'completion_tokens_details': {'audio_tokens': None, 'reasoning_tokens': 0}, 'prompt_tokens_details': {'audio_tokens': None, 'cached_tokens': 0}}, 'model_name': 'gpt-4o-2024-08-06', 'system_fingerprint': 'fp_6b68a8204b', 'finish_reason': 'stop', 'logprobs': None}, id='run-7824d88b-f162-490b-814b-4b21af22a4ba-0', usage_metadata={'input_tokens': 8, 'output_tokens': 9, 'total_tokens': 17, 'input_token_details': {'cache_read': 0}, 'output_token_details': {'reasoning': 0}})"
      ]
     },
     "execution_count": 1,
     "metadata": {},
     "output_type": "execute_result"
    }
   ],
   "source": [
    "from killtherobot_backend.llms import load_model\n"
   ]
  },
  {
   "cell_type": "code",
   "execution_count": 13,
   "metadata": {},
   "outputs": [
    {
     "data": {
      "text/plain": [
       "\"I'm glad you think so! Humor can be subjective, but I’m always here to share a laugh. If you have any jokes you'd like to share or need a recommendation, let me know!\""
      ]
     },
     "execution_count": 13,
     "metadata": {},
     "output_type": "execute_result"
    }
   ],
   "source": [
    "from dotenv import load_dotenv\n",
    "from langchain_core.output_parsers import StrOutputParser\n",
    "from langchain_core.prompts import ChatPromptTemplate, PromptTemplate\n",
    "from langchain_core.runnables import ConfigurableField\n",
    "from langchain_core.runnables.base import RunnableSerializable\n",
    "from langchain_openai import ChatOpenAI\n",
    "\n",
    "from killtherobot_backend.llms import load_model\n",
    "\n",
    "human_prompt = \"this is a {something} {joke}\".format(something=\"funny\", joke=\"joke\")\n",
    "\n",
    "prompt = system_prompt + human_prompt\n",
    "\n",
    "# prompt = ChatPromptTemplate(system_prompt, human_prompt)\n",
    "\n",
    "llm.invoke(prompt).content\n"
   ]
  },
  {
   "cell_type": "code",
   "execution_count": 6,
   "metadata": {},
   "outputs": [
    {
     "data": {
      "text/plain": [
       "'Write a hilarious response to this prompt. Make it raunchy and hilarious: \\n\\n```\\nyes?\\n```\\n\\nThese questions and answers worked well in the past. Match the style of the answers:\\n\\n```\\nwhat\\n```\\n\\nRespond with exactly 2, 3, 4, 5, or 6 words.'"
      ]
     },
     "execution_count": 6,
     "metadata": {},
     "output_type": "execute_result"
    }
   ],
   "source": [
    "from killtherobot_backend.prompts import bots\n",
    "\n",
    "bots[\"Ada\"][\"prompt\"].format(question=\"yes?\", good_qa_pairs=\"what\")"
   ]
  },
  {
   "cell_type": "code",
   "execution_count": null,
   "metadata": {},
   "outputs": [],
   "source": []
  }
 ],
 "metadata": {
  "kernelspec": {
   "display_name": ".venv",
   "language": "python",
   "name": "python3"
  },
  "language_info": {
   "codemirror_mode": {
    "name": "ipython",
    "version": 3
   },
   "file_extension": ".py",
   "mimetype": "text/x-python",
   "name": "python",
   "nbconvert_exporter": "python",
   "pygments_lexer": "ipython3",
   "version": "3.11.9"
  }
 },
 "nbformat": 4,
 "nbformat_minor": 2
}
